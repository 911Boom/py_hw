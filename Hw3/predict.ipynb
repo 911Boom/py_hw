{
 "cells": [
  {
   "cell_type": "code",
   "execution_count": 1,
   "metadata": {
    "collapsed": true,
    "ExecuteTime": {
     "end_time": "2023-06-29T15:20:00.877661400Z",
     "start_time": "2023-06-29T15:19:57.581266900Z"
    }
   },
   "outputs": [
    {
     "name": "stdout",
     "output_type": "stream",
     "text": [
      "<bound method NDFrame.head of           id  red1  red2  red3  red4  red5  red6  blue  \\\n",
      "0    2016119     9    32    30    21    19    31     4   \n",
      "1    2016120     6    21    28    25     2     5     9   \n",
      "2    2016121    28    23     2    10    25     3     9   \n",
      "3    2016122    15    28    23    29    22    24     8   \n",
      "4    2016123     9    20    12    27    14     7    16   \n",
      "..       ...   ...   ...   ...   ...   ...   ...   ...   \n",
      "995  2023069    26    17    20    21    14    12     2   \n",
      "996  2023070    32    31     3    25    33     5     4   \n",
      "997  2023071    24    15    12    19     5    26     6   \n",
      "998  2023072     2    10    24    33     6    25     9   \n",
      "999  2023073    16    15    32     1    25     3    10   \n",
      "\n",
      "                                     firstPrizeAddress    OpenTime  SaleMoney  \n",
      "0                            河北1注,内蒙古1注,浙江1注,安徽1注,共4注。  2016-10-11  302415052  \n",
      "1                  北京1注,内蒙古1注,辽宁1注,上海1注,湖北1注,云南1注,共6注。  2016-10-13  309329228  \n",
      "2                        吉林1注,江苏1注,山东1注,湖南1注,宁夏1注,共5注。  2016-10-16  340006950  \n",
      "3                        浙江1注,安徽1注,湖南1注,广东1注,重庆2注,共6注。  2016-10-18  305059324  \n",
      "4                                  上海1注,广西1注,重庆1注,共3注。  2016-10-20  305299416  \n",
      "..                                                 ...         ...        ...  \n",
      "995                           河北2注,浙江2注,山东1注,甘肃1注,共6注。  2023-06-18  396617204  \n",
      "996                                               共0注。  2023-06-20  358436376  \n",
      "997  河北1注,辽宁2注,黑龙江1注,浙江2注,福建1注,山东1注,河南1注,湖南1注,广西2注,...  2023-06-22  335357710  \n",
      "998                           吉林1注,上海1注,重庆1注,湖南4注,共7注。  2023-06-25  390203400  \n",
      "999                      北京1注,贵州1注,云南1注,西藏1注,青海1注,共5注。  2023-06-27  360075550  \n",
      "\n",
      "[1000 rows x 11 columns]>\n"
     ]
    }
   ],
   "source": [
    "import pandas\n",
    "from xgboost import XGBRegressor\n",
    "\n",
    "\n",
    "data = pandas.read_csv('ssq.csv')\n",
    "# 选取后100条作为测试集\n",
    "train = data[:-100]\n",
    "test = data[-100:]\n",
    "print(data.head)"
   ]
  },
  {
   "cell_type": "code",
   "execution_count": 2,
   "outputs": [],
   "source": [
    "# 选取特征\n",
    "X_columns = ['id']\n",
    "y_column = ['red1','red2','red3','red4','red5','red6','blue']\n",
    "X_train = train[X_columns]\n",
    "y_train = train[y_column]\n",
    "X_test = test[X_columns]\n",
    "y_test = test[y_column]"
   ],
   "metadata": {
    "collapsed": false,
    "ExecuteTime": {
     "end_time": "2023-06-29T15:20:04.749475800Z",
     "start_time": "2023-06-29T15:20:04.720335800Z"
    }
   }
  },
  {
   "cell_type": "code",
   "execution_count": 3,
   "outputs": [],
   "source": [
    "model = XGBRegressor()\n",
    "model.fit(X_train, y_train)\n",
    "y_pred = model.predict(X_test)"
   ],
   "metadata": {
    "collapsed": false,
    "ExecuteTime": {
     "end_time": "2023-06-29T15:20:14.254690400Z",
     "start_time": "2023-06-29T15:20:06.315064800Z"
    }
   }
  },
  {
   "cell_type": "code",
   "execution_count": 4,
   "outputs": [],
   "source": [
    "def get_score (y_pred, y_test):\n",
    "    red_test = y_test[:6]\n",
    "    blue_test = y_test[6]\n",
    "    red_pred = y_pred[:6]\n",
    "    blue_pred = y_pred[6]\n",
    "    print(red_pred, blue_pred, red_test, blue_test)\n",
    "    red = 0\n",
    "    blue = 0\n",
    "    for i in red_pred:\n",
    "        i = int(round(i))\n",
    "        if i in red_test:\n",
    "            red += 1\n",
    "    if blue_pred == blue_test:\n",
    "        blue = 1\n",
    "    if red == 6 and blue == 1:\n",
    "        return 7500000\n",
    "    elif red == 6:\n",
    "        return 400000\n",
    "    elif red == 5 and blue == 1:\n",
    "        return 3000\n",
    "    elif red == 5 or (red == 4 and blue == 1):\n",
    "        return 200\n",
    "    elif red == 4 or (red == 3 and blue == 1):\n",
    "        return 10\n",
    "    elif blue == 1:\n",
    "        return 5\n",
    "    else:\n",
    "        return -2"
   ],
   "metadata": {
    "collapsed": false,
    "ExecuteTime": {
     "end_time": "2023-06-29T15:20:17.571857900Z",
     "start_time": "2023-06-29T15:20:17.548493700Z"
    }
   }
  },
  {
   "cell_type": "code",
   "execution_count": 9,
   "outputs": [
    {
     "name": "stdout",
     "output_type": "stream",
     "text": [
      "-200\n"
     ]
    }
   ],
   "source": [
    "TotScore = 0\n",
    "for i in range(100):\n",
    "    # print(y_pred[i], list(y_test.iloc[i]))\n",
    "    TotScore += get_score(y_pred[i], list(y_test.iloc[i]))\n",
    "print(TotScore)"
   ],
   "metadata": {
    "collapsed": false,
    "ExecuteTime": {
     "end_time": "2023-06-29T15:21:21.987275500Z",
     "start_time": "2023-06-29T15:21:21.366292200Z"
    }
   }
  },
  {
   "cell_type": "code",
   "execution_count": null,
   "outputs": [],
   "source": [
    "for i in range(100):\n",
    "    print(y_pred[i], y_test.iloc[i])"
   ],
   "metadata": {
    "collapsed": false
   }
  }
 ],
 "metadata": {
  "kernelspec": {
   "display_name": "Python 3",
   "language": "python",
   "name": "python3"
  },
  "language_info": {
   "codemirror_mode": {
    "name": "ipython",
    "version": 2
   },
   "file_extension": ".py",
   "mimetype": "text/x-python",
   "name": "python",
   "nbconvert_exporter": "python",
   "pygments_lexer": "ipython2",
   "version": "2.7.6"
  }
 },
 "nbformat": 4,
 "nbformat_minor": 0
}
