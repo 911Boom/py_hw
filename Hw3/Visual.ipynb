{
 "cells": [
  {
   "cell_type": "code",
   "execution_count": 9,
   "metadata": {
    "collapsed": true,
    "ExecuteTime": {
     "end_time": "2023-06-29T12:57:26.857691500Z",
     "start_time": "2023-06-29T12:57:26.815930900Z"
    }
   },
   "outputs": [],
   "source": [
    "import sqlite3\n",
    "import re\n",
    "import pyecharts.options as opts\n",
    "from pyecharts.charts import Map,Geo\n",
    "import pandas as pd"
   ]
  },
  {
   "cell_type": "code",
   "execution_count": 10,
   "outputs": [],
   "source": [
    "conn = sqlite3.connect('ssq.db')\n",
    "cur = conn.cursor()\n",
    "cur.execute('select data from ssq')\n",
    "data = cur.fetchall()\n",
    "conn.close()"
   ],
   "metadata": {
    "collapsed": false,
    "ExecuteTime": {
     "end_time": "2023-06-29T12:57:26.894614Z",
     "start_time": "2023-06-29T12:57:26.824941300Z"
    }
   }
  },
  {
   "cell_type": "code",
   "execution_count": 11,
   "outputs": [],
   "source": [
    "prov_dict = {}\n",
    "df = pd.read_csv('../data/province.csv')\n",
    "for s in data:\n",
    "    t1 = s[0]\n",
    "    s = s[0]\n",
    "    s1 = re.findall(r'[\\u4e00-\\u9fa5]+[0-9]+[0-9]', s)\n",
    "    s = re.findall(r'[\\u4e00-\\u9fa5]+[0-9]', s)\n",
    "    s = s1 + s\n",
    "    for x in s:\n",
    "        if '共' in x:\n",
    "            continue\n",
    "        prov = re.findall(r'[\\u4e00-\\u9fa5]+', x)[0]\n",
    "        t = re.findall(r'[0-9]+', x)[0]\n",
    "        prov_dict[prov] = prov_dict.get(prov, 0) + int(t)"
   ],
   "metadata": {
    "collapsed": false,
    "ExecuteTime": {
     "end_time": "2023-06-29T12:57:26.895629400Z",
     "start_time": "2023-06-29T12:57:26.840694500Z"
    }
   }
  },
  {
   "cell_type": "code",
   "execution_count": 12,
   "outputs": [
    {
     "name": "stdout",
     "output_type": "stream",
     "text": [
      "{'河北': 273, '内蒙古': 102, '浙江': 603, '安徽': 235, '北京': 288, '辽宁': 255, '上海': 291, '湖北': 269, '云南': 295, '吉林': 86, '江苏': 437, '山东': 451, '湖南': 242, '宁夏': 60, '广东': 682, '重庆': 192, '广西': 260, '西藏': 11, '陕西': 188, '江西': 156, '河南': 310, '甘肃': 86, '海南': 42, '黑龙江': 160, '福建': 210, '四川': 382, '新疆': 103, '天津': 86, '深圳': 240, '贵州': 126, '青海': 31, '山西': 141}\n",
      "河北 河北省\n",
      "内蒙古 内蒙古自治区\n",
      "浙江 浙江省\n",
      "安徽 安徽省\n",
      "北京 北京市\n",
      "辽宁 辽宁省\n",
      "上海 上海市\n",
      "湖北 湖北省\n",
      "云南 云南省\n",
      "吉林 吉林省\n",
      "江苏 江苏省\n",
      "山东 山东省\n",
      "湖南 湖南省\n",
      "宁夏 宁夏回族自治区\n",
      "广东 广东省\n",
      "重庆 重庆市\n",
      "广西 广西壮族自治区\n",
      "西藏 西藏自治区\n",
      "陕西 陕西省\n",
      "江西 江西省\n",
      "河南 河南省\n",
      "甘肃 甘肃省\n",
      "海南 海南省\n",
      "黑龙江 黑龙江省\n",
      "福建 福建省\n",
      "四川 四川省\n",
      "新疆 新疆维吾尔自治区\n",
      "天津 天津市\n",
      "贵州 贵州省\n",
      "青海 青海省\n",
      "山西 山西省\n",
      "{'深圳': 240, '河北省': 273, '内蒙古自治区': 102, '浙江省': 603, '安徽省': 235, '北京市': 288, '辽宁省': 255, '上海市': 291, '湖北省': 269, '云南省': 295, '吉林省': 86, '江苏省': 437, '山东省': 451, '湖南省': 242, '宁夏回族自治区': 60, '广东省': 682, '重庆市': 192, '广西壮族自治区': 260, '西藏自治区': 11, '陕西省': 188, '江西省': 156, '河南省': 310, '甘肃省': 86, '海南省': 42, '黑龙江省': 160, '福建省': 210, '四川省': 382, '新疆维吾尔自治区': 103, '天津市': 86, '贵州省': 126, '青海省': 31, '山西省': 141}\n"
     ]
    }
   ],
   "source": [
    "print(prov_dict)\n",
    "keys = list(prov_dict.keys())\n",
    "for key in keys:\n",
    "    for row in df.iterrows():\n",
    "        if key in row[1]['province']:\n",
    "            print(key, row[1]['province'])\n",
    "            prov_dict[row[1]['province']] = prov_dict.pop(key)\n",
    "            break\n",
    "# print(df)\n",
    "print(prov_dict)\n",
    "prov_dict['广东省'] = prov_dict['广东省'] + prov_dict['深圳']"
   ],
   "metadata": {
    "collapsed": false,
    "ExecuteTime": {
     "end_time": "2023-06-29T12:57:26.926489Z",
     "start_time": "2023-06-29T12:57:26.868318Z"
    }
   }
  },
  {
   "cell_type": "code",
   "execution_count": 13,
   "outputs": [],
   "source": [
    "c = (\n",
    "    Map()\n",
    "    .add(\"注数\", [list(z) for z in zip(prov_dict.keys(), prov_dict.values())], \"china\")\n",
    "    .set_global_opts(\n",
    "        title_opts=opts.TitleOpts(title=\"各省中彩票注数共708期\"),\n",
    "        visualmap_opts=opts.VisualMapOpts(max_=700, min_=0),\n",
    "    )\n",
    ")"
   ],
   "metadata": {
    "collapsed": false,
    "ExecuteTime": {
     "end_time": "2023-06-29T12:57:26.928558800Z",
     "start_time": "2023-06-29T12:57:26.900666Z"
    }
   }
  },
  {
   "cell_type": "code",
   "execution_count": 14,
   "outputs": [
    {
     "data": {
      "text/plain": "'D:\\\\Magic\\\\py_hw\\\\Hw3\\\\map.html'"
     },
     "execution_count": 14,
     "metadata": {},
     "output_type": "execute_result"
    }
   ],
   "source": [
    "c.render('./map.html')"
   ],
   "metadata": {
    "collapsed": false,
    "ExecuteTime": {
     "end_time": "2023-06-29T12:57:26.962067200Z",
     "start_time": "2023-06-29T12:57:26.918063500Z"
    }
   }
  }
 ],
 "metadata": {
  "kernelspec": {
   "display_name": "Python 3",
   "language": "python",
   "name": "python3"
  },
  "language_info": {
   "codemirror_mode": {
    "name": "ipython",
    "version": 2
   },
   "file_extension": ".py",
   "mimetype": "text/x-python",
   "name": "python",
   "nbconvert_exporter": "python",
   "pygments_lexer": "ipython2",
   "version": "2.7.6"
  }
 },
 "nbformat": 4,
 "nbformat_minor": 0
}
