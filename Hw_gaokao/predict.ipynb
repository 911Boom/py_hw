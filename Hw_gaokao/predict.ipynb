{
 "cells": [
  {
   "cell_type": "code",
   "execution_count": 1,
   "metadata": {
    "collapsed": true,
    "ExecuteTime": {
     "end_time": "2023-07-09T08:29:00.008613800Z",
     "start_time": "2023-07-09T08:28:58.697873700Z"
    }
   },
   "outputs": [],
   "source": [
    "import pandas as pd\n",
    "from xgboost import XGBRegressor\n",
    "import sqlite3\n",
    "from sklearn.metrics import mean_absolute_error"
   ]
  },
  {
   "cell_type": "code",
   "execution_count": 2,
   "metadata": {
    "collapsed": false,
    "ExecuteTime": {
     "end_time": "2023-07-09T08:29:00.043452400Z",
     "start_time": "2023-07-09T08:29:00.011478Z"
    }
   },
   "outputs": [
    {
     "name": "stdout",
     "output_type": "stream",
     "text": [
      "     year  province  score specialized\n",
      "0    2022       北京市    617          综合\n",
      "1    2022       天津市    642          综合\n",
      "2    2022       河北省    611       历史类一批\n",
      "3    2022       河北省    590       物理类一批\n",
      "4    2022       山西省    547        文史一批\n",
      "..    ...       ...    ...         ...\n",
      "351  2019       青海省    521        理工一批\n",
      "352  2019   宁夏回族自治区    603        文史一批\n",
      "353  2019   宁夏回族自治区    555        理工一批\n",
      "354  2019  新疆维吾尔自治区    586        文史一批\n",
      "355  2019  新疆维吾尔自治区    568        理工一批\n",
      "\n",
      "[356 rows x 4 columns]\n"
     ]
    }
   ],
   "source": [
    "conn = sqlite3.connect('gaokao.db')\n",
    "cur = conn.cursor()\n",
    "cur.execute('''\n",
    "select gk1.year,prov.province,gk1.score,gk1.specialized\n",
    "from gk1,prov\n",
    "where gk1.province=prov.province_sx\n",
    "''')\n",
    "X = pd.DataFrame(cur.fetchall(), columns=['year', 'province', 'score', 'specialized'])\n",
    "print(X)"
   ]
  },
  {
   "cell_type": "code",
   "execution_count": 3,
   "metadata": {
    "collapsed": false,
    "ExecuteTime": {
     "end_time": "2023-07-09T08:29:00.064428100Z",
     "start_time": "2023-07-09T08:29:00.040312900Z"
    }
   },
   "outputs": [
    {
     "name": "stdout",
     "output_type": "stream",
     "text": [
      "     year  province  score  specialized\n",
      "81   2021       北京市    598           综合\n",
      "82   2021       天津市    637           综合\n",
      "83   2021       河北省    604        历史类一批\n",
      "84   2021       河北省    593        物理类一批\n",
      "85   2021       河北省    589  物理学（中外合作办学）\n",
      "..    ...       ...    ...          ...\n",
      "351  2019       青海省    521         理工一批\n",
      "352  2019   宁夏回族自治区    603         文史一批\n",
      "353  2019   宁夏回族自治区    555         理工一批\n",
      "354  2019  新疆维吾尔自治区    586         文史一批\n",
      "355  2019  新疆维吾尔自治区    568         理工一批\n",
      "\n",
      "[275 rows x 4 columns]\n",
      "    year  province  score specialized\n",
      "0   2022       北京市    617          综合\n",
      "1   2022       天津市    642          综合\n",
      "2   2022       河北省    611       历史类一批\n",
      "3   2022       河北省    590       物理类一批\n",
      "4   2022       山西省    547        文史一批\n",
      "..   ...       ...    ...         ...\n",
      "76  2022   宁夏回族自治区    552        文史一批\n",
      "77  2022   宁夏回族自治区    513        理工一批\n",
      "78  2022  新疆维吾尔自治区    534        文史一批\n",
      "79  2022  新疆维吾尔自治区    516        理工一批\n",
      "80  2022  新疆维吾尔自治区    479    南疆计划（理工）\n",
      "\n",
      "[81 rows x 4 columns]\n"
     ]
    }
   ],
   "source": [
    "X_test = X[X['year'] == 2022]\n",
    "X_train = X[X['year'] != 2022]\n",
    "print(X_train)\n",
    "print(X_test)"
   ]
  },
  {
   "cell_type": "code",
   "execution_count": 4,
   "metadata": {
    "collapsed": false,
    "ExecuteTime": {
     "end_time": "2023-07-09T08:29:00.113976200Z",
     "start_time": "2023-07-09T08:29:00.055157700Z"
    }
   },
   "outputs": [
    {
     "name": "stdout",
     "output_type": "stream",
     "text": [
      "     year  province_上海市  province_云南省  province_内蒙古自治区  province_北京市  \\\n",
      "81   2021             0             0                0             1   \n",
      "82   2021             0             0                0             0   \n",
      "83   2021             0             0                0             0   \n",
      "84   2021             0             0                0             0   \n",
      "85   2021             0             0                0             0   \n",
      "..    ...           ...           ...              ...           ...   \n",
      "351  2019             0             0                0             0   \n",
      "352  2019             0             0                0             0   \n",
      "353  2019             0             0                0             0   \n",
      "354  2019             0             0                0             0   \n",
      "355  2019             0             0                0             0   \n",
      "\n",
      "     province_吉林省  province_四川省  province_天津市  province_宁夏回族自治区  province_安徽省  \\\n",
      "81              0             0             0                 0             0   \n",
      "82              0             0             1                 0             0   \n",
      "83              0             0             0                 0             0   \n",
      "84              0             0             0                 0             0   \n",
      "85              0             0             0                 0             0   \n",
      "..            ...           ...           ...               ...           ...   \n",
      "351             0             0             0                 0             0   \n",
      "352             0             0             0                 1             0   \n",
      "353             0             0             0                 1             0   \n",
      "354             0             0             0                 0             0   \n",
      "355             0             0             0                 0             0   \n",
      "\n",
      "     ...  specialized_理工一批  specialized_综合  specialized_综合改革  \\\n",
      "81   ...                 0               1                 0   \n",
      "82   ...                 0               1                 0   \n",
      "83   ...                 0               0                 0   \n",
      "84   ...                 0               0                 0   \n",
      "85   ...                 0               0                 0   \n",
      "..   ...               ...             ...               ...   \n",
      "351  ...                 1               0                 0   \n",
      "352  ...                 0               0                 0   \n",
      "353  ...                 1               0                 0   \n",
      "354  ...                 0               0                 0   \n",
      "355  ...                 1               0                 0   \n",
      "\n",
      "     specialized_西藏民（文史）  specialized_西藏民（理工）  specialized_西藏汉（文史）  \\\n",
      "81                     0                    0                    0   \n",
      "82                     0                    0                    0   \n",
      "83                     0                    0                    0   \n",
      "84                     0                    0                    0   \n",
      "85                     0                    0                    0   \n",
      "..                   ...                  ...                  ...   \n",
      "351                    0                    0                    0   \n",
      "352                    0                    0                    0   \n",
      "353                    0                    0                    0   \n",
      "354                    0                    0                    0   \n",
      "355                    0                    0                    0   \n",
      "\n",
      "     specialized_西藏汉（理工）  specialized_软件单列  specialized_软件单列（理工）  \\\n",
      "81                     0                 0                     0   \n",
      "82                     0                 0                     0   \n",
      "83                     0                 0                     0   \n",
      "84                     0                 0                     0   \n",
      "85                     0                 0                     0   \n",
      "..                   ...               ...                   ...   \n",
      "351                    0                 0                     0   \n",
      "352                    0                 0                     0   \n",
      "353                    0                 0                     0   \n",
      "354                    0                 0                     0   \n",
      "355                    0                 0                     0   \n",
      "\n",
      "     specialized_南疆计划（理工）  \n",
      "81                      0  \n",
      "82                      0  \n",
      "83                      0  \n",
      "84                      0  \n",
      "85                      0  \n",
      "..                    ...  \n",
      "351                     0  \n",
      "352                     0  \n",
      "353                     0  \n",
      "354                     0  \n",
      "355                     0  \n",
      "\n",
      "[275 rows x 54 columns]\n",
      "    year  province_上海市  province_云南省  province_内蒙古自治区  province_北京市  \\\n",
      "0   2022             0             0                0             1   \n",
      "1   2022             0             0                0             0   \n",
      "2   2022             0             0                0             0   \n",
      "3   2022             0             0                0             0   \n",
      "4   2022             0             0                0             0   \n",
      "..   ...           ...           ...              ...           ...   \n",
      "76  2022             0             0                0             0   \n",
      "77  2022             0             0                0             0   \n",
      "78  2022             0             0                0             0   \n",
      "79  2022             0             0                0             0   \n",
      "80  2022             0             0                0             0   \n",
      "\n",
      "    province_吉林省  province_四川省  province_天津市  province_宁夏回族自治区  province_安徽省  \\\n",
      "0              0             0             0                 0             0   \n",
      "1              0             0             1                 0             0   \n",
      "2              0             0             0                 0             0   \n",
      "3              0             0             0                 0             0   \n",
      "4              0             0             0                 0             0   \n",
      "..           ...           ...           ...               ...           ...   \n",
      "76             0             0             0                 1             0   \n",
      "77             0             0             0                 1             0   \n",
      "78             0             0             0                 0             0   \n",
      "79             0             0             0                 0             0   \n",
      "80             0             0             0                 0             0   \n",
      "\n",
      "    ...  specialized_理工一批  specialized_综合  specialized_综合改革  \\\n",
      "0   ...                 0               1                 0   \n",
      "1   ...                 0               1                 0   \n",
      "2   ...                 0               0                 0   \n",
      "3   ...                 0               0                 0   \n",
      "4   ...                 0               0                 0   \n",
      "..  ...               ...             ...               ...   \n",
      "76  ...                 0               0                 0   \n",
      "77  ...                 1               0                 0   \n",
      "78  ...                 0               0                 0   \n",
      "79  ...                 1               0                 0   \n",
      "80  ...                 0               0                 0   \n",
      "\n",
      "    specialized_西藏民（文史）  specialized_西藏民（理工）  specialized_西藏汉（文史）  \\\n",
      "0                     0                    0                    0   \n",
      "1                     0                    0                    0   \n",
      "2                     0                    0                    0   \n",
      "3                     0                    0                    0   \n",
      "4                     0                    0                    0   \n",
      "..                  ...                  ...                  ...   \n",
      "76                    0                    0                    0   \n",
      "77                    0                    0                    0   \n",
      "78                    0                    0                    0   \n",
      "79                    0                    0                    0   \n",
      "80                    0                    0                    0   \n",
      "\n",
      "    specialized_西藏汉（理工）  specialized_软件单列  specialized_软件单列（理工）  \\\n",
      "0                     0                 0                     0   \n",
      "1                     0                 0                     0   \n",
      "2                     0                 0                     0   \n",
      "3                     0                 0                     0   \n",
      "4                     0                 0                     0   \n",
      "..                  ...               ...                   ...   \n",
      "76                    0                 0                     0   \n",
      "77                    0                 0                     0   \n",
      "78                    0                 0                     0   \n",
      "79                    0                 0                     0   \n",
      "80                    0                 0                     0   \n",
      "\n",
      "    specialized_南疆计划（理工）  \n",
      "0                      0  \n",
      "1                      0  \n",
      "2                      0  \n",
      "3                      0  \n",
      "4                      0  \n",
      "..                   ...  \n",
      "76                     0  \n",
      "77                     0  \n",
      "78                     0  \n",
      "79                     0  \n",
      "80                     1  \n",
      "\n",
      "[81 rows x 54 columns]\n",
      "81     598\n",
      "82     637\n",
      "83     604\n",
      "84     593\n",
      "85     589\n",
      "      ... \n",
      "351    521\n",
      "352    603\n",
      "353    555\n",
      "354    586\n",
      "355    568\n",
      "Name: score, Length: 275, dtype: int64\n",
      "0     617\n",
      "1     642\n",
      "2     611\n",
      "3     590\n",
      "4     547\n",
      "     ... \n",
      "76    552\n",
      "77    513\n",
      "78    534\n",
      "79    516\n",
      "80    479\n",
      "Name: score, Length: 81, dtype: int64\n"
     ]
    }
   ],
   "source": [
    "y = X_train['score']\n",
    "y_test = X_test['score']\n",
    "X_train = X_train.drop(['score'], axis=1)\n",
    "X_test = X_test.drop(['score'], axis=1)\n",
    "X_train = pd.get_dummies(X_train)\n",
    "X_test = pd.get_dummies(X_test)\n",
    "for col in X_train.columns:\n",
    "    if col not in X_test.columns:\n",
    "        X_test[col] = 0\n",
    "for col in X_test.columns:\n",
    "    if col not in X_train.columns:\n",
    "        X_train[col] = 0\n",
    "X_test = X_test[X_train.columns]\n",
    "print(X_train)\n",
    "print(X_test)\n",
    "print(y)\n",
    "print(y_test)"
   ]
  },
  {
   "cell_type": "code",
   "execution_count": 5,
   "metadata": {
    "collapsed": false,
    "ExecuteTime": {
     "end_time": "2023-07-09T08:29:00.874863100Z",
     "start_time": "2023-07-09T08:29:00.088121Z"
    }
   },
   "outputs": [
    {
     "name": "stdout",
     "output_type": "stream",
     "text": [
      "[598.0022  637.00037 603.99756 592.9984  603.99194 579.0093  553.0021\n",
      " 549.0612  571.00757 546.9387  528.0008  600.0053  571.0047  571.0204\n",
      " 555.99396 538.9819  547.0048  525.9931  539.00836 579.03094 563.9818\n",
      " 555.02484 566.9976  531.99756 542.00037 600.00073 589.0005  633.98895\n",
      " 634.96405 619.0024  623.0203  594.0197  599.99976 612.00006 589.98553\n",
      " 622.943   613.99713 611.041   595.0187  580.00055 630.93713 610.0119\n",
      " 626.03485 604.0097  612.03455 591.99646 631.9965  617.0016  614.00146\n",
      " 605.0013  612.0019  604.99805 606.9984  613.9491  586.0441  665.00226\n",
      " 620.00354 614.0034  603.0259  625.95636 594.9955  642.9725  575.02856\n",
      " 643.9612  580.0358  598.9974  433.0004  565.99976 379.00073 610.0056\n",
      " 572.97125 519.02356 585.01794 557.98926 531.0318  504.95993 588.0001\n",
      " 486.0125  572.02014 544.99    550.4301 ]\n",
      "20.623454529562114\n"
     ]
    }
   ],
   "source": [
    "model = XGBRegressor(n_estimators=500)\n",
    "model.fit(X_train, y,eval_set=[(X_test, y_test)], verbose=False)\n",
    "y_pred = model.predict(X_test)\n",
    "print(y_pred)\n",
    "print(mean_absolute_error(y_pred, y_test))"
   ]
  },
  {
   "cell_type": "code",
   "execution_count": 6,
   "outputs": [
    {
     "name": "stdout",
     "output_type": "stream",
     "text": [
      "[601.58       624.97       606.41       601.4        598.31\n",
      " 589.05       560.87       563.51       564.2        552.05\n",
      " 538.76       595.86       584.44       561.72       551.47\n",
      " 544.52       547.         533.9        542.89       578.18\n",
      " 565.47       571.04       566.1        542.32       541.29\n",
      " 568.23       573.75       631.26166667 625.88       617.93\n",
      " 621.78       595.78       602.47       609.01       581.08\n",
      " 618.79       612.64       611.41       596.79       588.01\n",
      " 626.26       614.07       624.27       603.06       612.02\n",
      " 601.91       623.5        612.54       612.99       607.14\n",
      " 610.47       605.14       606.7        604.46       594.21\n",
      " 675.54       614.21       613.78       606.54       622.66\n",
      " 597.89       634.02       592.87       635.14       602.77\n",
      " 593.07       494.48       575.67       465.46       609.01\n",
      " 579.36       541.05       590.04       567.53       534.42\n",
      " 503.9        566.28       511.63       570.03       552.36\n",
      " 561.58      ]\n",
      "22.48948559670781\n"
     ]
    }
   ],
   "source": [
    "from sklearn.ensemble import RandomForestRegressor\n",
    "model1 = RandomForestRegressor()\n",
    "model1.fit(X_train, y)\n",
    "y_pred1 = model1.predict(X_test)\n",
    "print(y_pred1)\n",
    "print(mean_absolute_error(y_pred1, y_test))"
   ],
   "metadata": {
    "collapsed": false,
    "ExecuteTime": {
     "end_time": "2023-07-09T08:29:01.234557200Z",
     "start_time": "2023-07-09T08:29:00.874863100Z"
    }
   }
  },
  {
   "cell_type": "code",
   "execution_count": 7,
   "metadata": {
    "collapsed": false,
    "ExecuteTime": {
     "end_time": "2023-07-09T08:29:01.256010500Z",
     "start_time": "2023-07-09T08:29:01.217835400Z"
    }
   },
   "outputs": [
    {
     "name": "stdout",
     "output_type": "stream",
     "text": [
      "    year  province specialized  score   pre_score\n",
      "0   2022       北京市          综合    617  598.002197\n",
      "1   2022       天津市          综合    642  637.000366\n",
      "2   2022       河北省       历史类一批    611  603.997559\n",
      "3   2022       河北省       物理类一批    590  592.998413\n",
      "4   2022       山西省        文史一批    547  603.991943\n",
      "..   ...       ...         ...    ...         ...\n",
      "76  2022   宁夏回族自治区        文史一批    552  588.000122\n",
      "77  2022   宁夏回族自治区        理工一批    513  486.012512\n",
      "78  2022  新疆维吾尔自治区        文史一批    534  572.020142\n",
      "79  2022  新疆维吾尔自治区        理工一批    516  544.989990\n",
      "80  2022  新疆维吾尔自治区    南疆计划（理工）    479  550.430115\n",
      "\n",
      "[81 rows x 5 columns]\n"
     ]
    }
   ],
   "source": [
    "df1 = pd.concat([X[X['year']==2022].drop('score',axis=1), y_test], axis=1)\n",
    "df1 = pd.concat([df1, pd.DataFrame(y_pred,columns=['pre_score'])], axis=1)\n",
    "print(df1)\n",
    "df1.to_csv('./gk1.csv', index=False)"
   ]
  },
  {
   "cell_type": "code",
   "execution_count": 8,
   "metadata": {
    "collapsed": false,
    "ExecuteTime": {
     "end_time": "2023-07-09T08:29:02.008854300Z",
     "start_time": "2023-07-09T08:29:01.234557200Z"
    }
   },
   "outputs": [
    {
     "data": {
      "text/plain": "<Figure size 640x480 with 1 Axes>",
      "image/png": "[encoded data removed]"
     },
     "metadata": {},
     "output_type": "display_data"
    }
   ],
   "source": [
    "import matplotlib.pyplot as plt\n",
    "import numpy as np\n",
    "plt.plot(np.arange(0, 81), y_pred, 'r')\n",
    "plt.plot(np.arange(0, 81), y_test, 'b')\n",
    "plt.show()"
   ]
  },
  {
   "cell_type": "code",
   "execution_count": 9,
   "outputs": [
    {
     "data": {
      "text/plain": "<Figure size 640x480 with 1 Axes>",
      "image/png": "[encoded data removed]"
     },
     "metadata": {},
     "output_type": "display_data"
    }
   ],
   "source": [
    "plt.plot(np.arange(0, 81), y_pred1, 'r')\n",
    "plt.plot(np.arange(0, 81), y_test, 'b')\n",
    "plt.show()"
   ],
   "metadata": {
    "collapsed": false,
    "ExecuteTime": {
     "end_time": "2023-07-09T08:29:02.113351200Z",
     "start_time": "2023-07-09T08:29:02.008854300Z"
    }
   }
  },
  {
   "cell_type": "code",
   "execution_count": 10,
   "metadata": {
    "collapsed": false,
    "ExecuteTime": {
     "end_time": "2023-07-09T08:29:02.325129700Z",
     "start_time": "2023-07-09T08:29:02.103794Z"
    }
   },
   "outputs": [],
   "source": [
    "import pyecharts.options as opts\n",
    "from pyecharts.charts import Map\n",
    "def visual(df, year, specialized):\n",
    "    c = (\n",
    "        Map()\n",
    "        .add(\"XGboost高考分数\", [list(z) for z in zip(df['province'], df['def'])], \"china\")\n",
    "        .set_global_opts(\n",
    "            title_opts=opts.TitleOpts(title=\"{}{}高考分数\".format(year, specialized)),\n",
    "            visualmap_opts=opts.VisualMapOpts(max_=100, min_=0),\n",
    "        )\n",
    "    )\n",
    "    c.render('./xgboost_map.html')\n"
   ]
  },
  {
   "cell_type": "code",
   "execution_count": 19,
   "metadata": {
    "collapsed": false,
    "ExecuteTime": {
     "end_time": "2023-07-09T08:37:40.009245200Z",
     "start_time": "2023-07-09T08:37:40.000767600Z"
    }
   },
   "outputs": [
    {
     "data": {
      "text/plain": "('理工一批', '物理类一批')"
     },
     "execution_count": 19,
     "metadata": {},
     "output_type": "execute_result"
    }
   ],
   "source": [
    "specializeds = cur.execute('''\n",
    "select specialized\n",
    "from gk1\n",
    "where year = 2022\n",
    "group by specialized\n",
    "order by count(*) desc\n",
    "''')\n",
    "specializeds = [l[0] for l in specializeds]\n",
    "l1 = [0, 2]\n",
    "q_specialized = tuple([specializeds[i] for i in l1])\n",
    "q_specialized"
   ]
  },
  {
   "cell_type": "code",
   "execution_count": 12,
   "metadata": {
    "collapsed": false,
    "ExecuteTime": {
     "end_time": "2023-07-09T08:29:02.370557200Z",
     "start_time": "2023-07-09T08:29:02.325129700Z"
    }
   },
   "outputs": [
    {
     "name": "stderr",
     "output_type": "stream",
     "text": [
      "F:\\Program\\AI\\miniconda\\envs\\Py_hw\\lib\\site-packages\\ipykernel_launcher.py:2: SettingWithCopyWarning: \n",
      "A value is trying to be set on a copy of a slice from a DataFrame.\n",
      "Try using .loc[row_indexer,col_indexer] = value instead\n",
      "\n",
      "See the caveats in the documentation: https://pandas.pydata.org/pandas-docs/stable/user_guide/indexing.html#returning-a-view-versus-a-copy\n",
      "  \n"
     ]
    }
   ],
   "source": [
    "x_visual = X[X['year'] == 2022]\n",
    "\n",
    "x_visual['def'] = abs(y_pred - x_visual['score'])\n",
    "x_visual = x_visual[x_visual['specialized'].isin(q_specialized)]\n",
    "\n",
    "visual(x_visual, 2022, q_specialized)\n"
   ]
  },
  {
   "cell_type": "code",
   "execution_count": 18,
   "outputs": [
    {
     "name": "stdout",
     "output_type": "stream",
     "text": [
      "[598.0022  637.00037 603.99756 592.9984  603.99194 579.0093  553.0021\n",
      " 549.0612  571.00757 546.9387  528.0008  600.0053  571.0047  571.0204\n",
      " 555.99396 538.9819  547.0048  525.9931  539.00836 579.03094 563.9818\n",
      " 555.02484 566.9976  531.99756 542.00037 600.00073 589.0005  633.98895\n",
      " 634.96405 619.0024  623.0203  594.0197  599.99976 612.00006 589.98553\n",
      " 622.943   613.99713 611.041   595.0187  580.00055 630.93713 610.0119\n",
      " 626.03485 604.0097  612.03455 591.99646 631.9965  617.0016  614.00146\n",
      " 605.0013  612.0019  604.99805 606.9984  613.9491  586.0441  665.00226\n",
      " 620.00354 614.0034  603.0259  625.95636 594.9955  642.9725  575.02856\n",
      " 643.9612  580.0358  598.9974  433.0004  565.99976 379.00073 610.0056\n",
      " 572.97125 519.02356 585.01794 557.98926 531.0318  504.95993 588.0001\n",
      " 486.0125  572.02014 544.99    550.4301 ]\n"
     ]
    },
    {
     "data": {
      "text/plain": "    year  province_上海市  province_云南省  province_内蒙古自治区  province_北京市  \\\n0   2022             0             0                0             1   \n1   2022             0             0                0             0   \n2   2022             0             0                0             0   \n3   2022             0             0                0             0   \n4   2022             0             0                0             0   \n..   ...           ...           ...              ...           ...   \n76  2022             0             0                0             0   \n77  2022             0             0                0             0   \n78  2022             0             0                0             0   \n79  2022             0             0                0             0   \n80  2022             0             0                0             0   \n\n    province_吉林省  province_四川省  province_天津市  province_宁夏回族自治区  province_安徽省  \\\n0              0             0             0                 0             0   \n1              0             0             1                 0             0   \n2              0             0             0                 0             0   \n3              0             0             0                 0             0   \n4              0             0             0                 0             0   \n..           ...           ...           ...               ...           ...   \n76             0             0             0                 1             0   \n77             0             0             0                 1             0   \n78             0             0             0                 0             0   \n79             0             0             0                 0             0   \n80             0             0             0                 0             0   \n\n    ...  specialized_理工一批  specialized_综合  specialized_综合改革  \\\n0   ...                 0               1                 0   \n1   ...                 0               1                 0   \n2   ...                 0               0                 0   \n3   ...                 0               0                 0   \n4   ...                 0               0                 0   \n..  ...               ...             ...               ...   \n76  ...                 0               0                 0   \n77  ...                 1               0                 0   \n78  ...                 0               0                 0   \n79  ...                 1               0                 0   \n80  ...                 0               0                 0   \n\n    specialized_西藏民（文史）  specialized_西藏民（理工）  specialized_西藏汉（文史）  \\\n0                     0                    0                    0   \n1                     0                    0                    0   \n2                     0                    0                    0   \n3                     0                    0                    0   \n4                     0                    0                    0   \n..                  ...                  ...                  ...   \n76                    0                    0                    0   \n77                    0                    0                    0   \n78                    0                    0                    0   \n79                    0                    0                    0   \n80                    0                    0                    0   \n\n    specialized_西藏汉（理工）  specialized_软件单列  specialized_软件单列（理工）  \\\n0                     0                 0                     0   \n1                     0                 0                     0   \n2                     0                 0                     0   \n3                     0                 0                     0   \n4                     0                 0                     0   \n..                  ...               ...                   ...   \n76                    0                 0                     0   \n77                    0                 0                     0   \n78                    0                 0                     0   \n79                    0                 0                     0   \n80                    0                 0                     0   \n\n    specialized_南疆计划（理工）  \n0                      0  \n1                      0  \n2                      0  \n3                      0  \n4                      0  \n..                   ...  \n76                     0  \n77                     0  \n78                     0  \n79                     0  \n80                     1  \n\n[81 rows x 54 columns]",
      "text/html": "<div>\n<style scoped>\n    .dataframe tbody tr th:only-of-type {\n        vertical-align: middle;\n    }\n\n    .dataframe tbody tr th {\n        vertical-align: top;\n    }\n\n    .dataframe thead th {\n        text-align: right;\n    }\n</style>\n<table border=\"1\" class=\"dataframe\">\n  <thead>\n    <tr style=\"text-align: right;\">\n      <th></th>\n      <th>year</th>\n      <th>province_上海市</th>\n      <th>province_云南省</th>\n      <th>province_内蒙古自治区</th>\n      <th>province_北京市</th>\n      <th>province_吉林省</th>\n      <th>province_四川省</th>\n      <th>province_天津市</th>\n      <th>province_宁夏回族自治区</th>\n      <th>province_安徽省</th>\n      <th>...</th>\n      <th>specialized_理工一批</th>\n      <th>specialized_综合</th>\n      <th>specialized_综合改革</th>\n      <th>specialized_西藏民（文史）</th>\n      <th>specialized_西藏民（理工）</th>\n      <th>specialized_西藏汉（文史）</th>\n      <th>specialized_西藏汉（理工）</th>\n      <th>specialized_软件单列</th>\n      <th>specialized_软件单列（理工）</th>\n      <th>specialized_南疆计划（理工）</th>\n    </tr>\n  </thead>\n  <tbody>\n    <tr>\n      <th>0</th>\n      <td>2022</td>\n      <td>0</td>\n      <td>0</td>\n      <td>0</td>\n      <td>1</td>\n      <td>0</td>\n      <td>0</td>\n      <td>0</td>\n      <td>0</td>\n      <td>0</td>\n      <td>...</td>\n      <td>0</td>\n      <td>1</td>\n      <td>0</td>\n      <td>0</td>\n      <td>0</td>\n      <td>0</td>\n      <td>0</td>\n      <td>0</td>\n      <td>0</td>\n      <td>0</td>\n    </tr>\n    <tr>\n      <th>1</th>\n      <td>2022</td>\n      <td>0</td>\n      <td>0</td>\n      <td>0</td>\n      <td>0</td>\n      <td>0</td>\n      <td>0</td>\n      <td>1</td>\n      <td>0</td>\n      <td>0</td>\n      <td>...</td>\n      <td>0</td>\n      <td>1</td>\n      <td>0</td>\n      <td>0</td>\n      <td>0</td>\n      <td>0</td>\n      <td>0</td>\n      <td>0</td>\n      <td>0</td>\n      <td>0</td>\n    </tr>\n    <tr>\n      <th>2</th>\n      <td>2022</td>\n      <td>0</td>\n      <td>0</td>\n      <td>0</td>\n      <td>0</td>\n      <td>0</td>\n      <td>0</td>\n      <td>0</td>\n      <td>0</td>\n      <td>0</td>\n      <td>...</td>\n      <td>0</td>\n      <td>0</td>\n      <td>0</td>\n      <td>0</td>\n      <td>0</td>\n      <td>0</td>\n      <td>0</td>\n      <td>0</td>\n      <td>0</td>\n      <td>0</td>\n    </tr>\n    <tr>\n      <th>3</th>\n      <td>2022</td>\n      <td>0</td>\n      <td>0</td>\n      <td>0</td>\n      <td>0</td>\n      <td>0</td>\n      <td>0</td>\n      <td>0</td>\n      <td>0</td>\n      <td>0</td>\n      <td>...</td>\n      <td>0</td>\n      <td>0</td>\n      <td>0</td>\n      <td>0</td>\n      <td>0</td>\n      <td>0</td>\n      <td>0</td>\n      <td>0</td>\n      <td>0</td>\n      <td>0</td>\n    </tr>\n    <tr>\n      <th>4</th>\n      <td>2022</td>\n      <td>0</td>\n      <td>0</td>\n      <td>0</td>\n      <td>0</td>\n      <td>0</td>\n      <td>0</td>\n      <td>0</td>\n      <td>0</td>\n      <td>0</td>\n      <td>...</td>\n      <td>0</td>\n      <td>0</td>\n      <td>0</td>\n      <td>0</td>\n      <td>0</td>\n      <td>0</td>\n      <td>0</td>\n      <td>0</td>\n      <td>0</td>\n      <td>0</td>\n    </tr>\n    <tr>\n      <th>...</th>\n      <td>...</td>\n      <td>...</td>\n      <td>...</td>\n      <td>...</td>\n      <td>...</td>\n      <td>...</td>\n      <td>...</td>\n      <td>...</td>\n      <td>...</td>\n      <td>...</td>\n      <td>...</td>\n      <td>...</td>\n      <td>...</td>\n      <td>...</td>\n      <td>...</td>\n      <td>...</td>\n      <td>...</td>\n      <td>...</td>\n      <td>...</td>\n      <td>...</td>\n      <td>...</td>\n    </tr>\n    <tr>\n      <th>76</th>\n      <td>2022</td>\n      <td>0</td>\n      <td>0</td>\n      <td>0</td>\n      <td>0</td>\n      <td>0</td>\n      <td>0</td>\n      <td>0</td>\n      <td>1</td>\n      <td>0</td>\n      <td>...</td>\n      <td>0</td>\n      <td>0</td>\n      <td>0</td>\n      <td>0</td>\n      <td>0</td>\n      <td>0</td>\n      <td>0</td>\n      <td>0</td>\n      <td>0</td>\n      <td>0</td>\n    </tr>\n    <tr>\n      <th>77</th>\n      <td>2022</td>\n      <td>0</td>\n      <td>0</td>\n      <td>0</td>\n      <td>0</td>\n      <td>0</td>\n      <td>0</td>\n      <td>0</td>\n      <td>1</td>\n      <td>0</td>\n      <td>...</td>\n      <td>1</td>\n      <td>0</td>\n      <td>0</td>\n      <td>0</td>\n      <td>0</td>\n      <td>0</td>\n      <td>0</td>\n      <td>0</td>\n      <td>0</td>\n      <td>0</td>\n    </tr>\n    <tr>\n      <th>78</th>\n      <td>2022</td>\n      <td>0</td>\n      <td>0</td>\n      <td>0</td>\n      <td>0</td>\n      <td>0</td>\n      <td>0</td>\n      <td>0</td>\n      <td>0</td>\n      <td>0</td>\n      <td>...</td>\n      <td>0</td>\n      <td>0</td>\n      <td>0</td>\n      <td>0</td>\n      <td>0</td>\n      <td>0</td>\n      <td>0</td>\n      <td>0</td>\n      <td>0</td>\n      <td>0</td>\n    </tr>\n    <tr>\n      <th>79</th>\n      <td>2022</td>\n      <td>0</td>\n      <td>0</td>\n      <td>0</td>\n      <td>0</td>\n      <td>0</td>\n      <td>0</td>\n      <td>0</td>\n      <td>0</td>\n      <td>0</td>\n      <td>...</td>\n      <td>1</td>\n      <td>0</td>\n      <td>0</td>\n      <td>0</td>\n      <td>0</td>\n      <td>0</td>\n      <td>0</td>\n      <td>0</td>\n      <td>0</td>\n      <td>0</td>\n    </tr>\n    <tr>\n      <th>80</th>\n      <td>2022</td>\n      <td>0</td>\n      <td>0</td>\n      <td>0</td>\n      <td>0</td>\n      <td>0</td>\n      <td>0</td>\n      <td>0</td>\n      <td>0</td>\n      <td>0</td>\n      <td>...</td>\n      <td>0</td>\n      <td>0</td>\n      <td>0</td>\n      <td>0</td>\n      <td>0</td>\n      <td>0</td>\n      <td>0</td>\n      <td>0</td>\n      <td>0</td>\n      <td>1</td>\n    </tr>\n  </tbody>\n</table>\n<p>81 rows × 54 columns</p>\n</div>"
     },
     "execution_count": 18,
     "metadata": {},
     "output_type": "execute_result"
    }
   ],
   "source": [
    "print(y_pred)\n",
    "X_test"
   ],
   "metadata": {
    "collapsed": false,
    "ExecuteTime": {
     "end_time": "2023-07-09T08:35:52.194200500Z",
     "start_time": "2023-07-09T08:35:52.167819100Z"
    }
   }
  },
  {
   "cell_type": "code",
   "execution_count": 14,
   "outputs": [
    {
     "name": "stdout",
     "output_type": "stream",
     "text": [
      "    year  province  score specialized\n",
      "0   2022       北京市    617          综合\n",
      "1   2022       天津市    642          综合\n",
      "2   2022       河北省    611       历史类一批\n",
      "3   2022       河北省    590       物理类一批\n",
      "4   2022       山西省    547        文史一批\n",
      "..   ...       ...    ...         ...\n",
      "76  2022   宁夏回族自治区    552        文史一批\n",
      "77  2022   宁夏回族自治区    513        理工一批\n",
      "78  2022  新疆维吾尔自治区    534        文史一批\n",
      "79  2022  新疆维吾尔自治区    516        理工一批\n",
      "80  2022  新疆维吾尔自治区    479    南疆计划（理工）\n",
      "\n",
      "[81 rows x 4 columns]\n"
     ]
    }
   ],
   "source": [
    "print(X[X['year']==2022])"
   ],
   "metadata": {
    "collapsed": false,
    "ExecuteTime": {
     "end_time": "2023-07-09T08:33:52.208398200Z",
     "start_time": "2023-07-09T08:33:52.197378500Z"
    }
   }
  },
  {
   "cell_type": "code",
   "execution_count": 13,
   "outputs": [
    {
     "data": {
      "text/plain": "    year  province  score specialized        def\n3   2022       河北省    590       物理类一批   2.998413\n5   2022       山西省    533        理工一批  46.009277\n9   2022    内蒙古自治区    549        理工一批   2.061279\n12  2022       辽宁省    576       物理类一批   4.995300\n15  2022       吉林省    546        理工一批   7.018127\n21  2022      黑龙江省    519        理工一批  36.024841\n26  2022       江苏省    601       物理类一批  11.999512\n30  2022       安徽省    611        理工一批  12.020325\n33  2022       福建省    605       物理类一批   7.000061\n37  2022       江西省    597        理工一批  14.041016\n42  2022       河南省    530        理工一批  96.034851\n48  2022       湖北省    594       物理类一批  20.001465\n50  2022       湖南省    596       物理类一批  16.001892\n52  2022       广东省    607       物理类一批   0.001587\n54  2022   广西壮族自治区    582        理工一批   4.044128\n57  2022       重庆市    569       物理类一批  45.003418\n59  2022       四川省    595        理工一批  30.956360\n62  2022       贵州省    580        理工一批   4.971436\n64  2022       云南省    619        理工一批  38.964172\n70  2022       陕西省    562        理工一批  10.971252\n73  2022       甘肃省    512        理工一批  45.989258\n75  2022       青海省    474        理工一批  30.959930\n77  2022   宁夏回族自治区    513        理工一批  26.987488\n79  2022  新疆维吾尔自治区    516        理工一批  28.989990",
      "text/html": "<div>\n<style scoped>\n    .dataframe tbody tr th:only-of-type {\n        vertical-align: middle;\n    }\n\n    .dataframe tbody tr th {\n        vertical-align: top;\n    }\n\n    .dataframe thead th {\n        text-align: right;\n    }\n</style>\n<table border=\"1\" class=\"dataframe\">\n  <thead>\n    <tr style=\"text-align: right;\">\n      <th></th>\n      <th>year</th>\n      <th>province</th>\n      <th>score</th>\n      <th>specialized</th>\n      <th>def</th>\n    </tr>\n  </thead>\n  <tbody>\n    <tr>\n      <th>3</th>\n      <td>2022</td>\n      <td>河北省</td>\n      <td>590</td>\n      <td>物理类一批</td>\n      <td>2.998413</td>\n    </tr>\n    <tr>\n      <th>5</th>\n      <td>2022</td>\n      <td>山西省</td>\n      <td>533</td>\n      <td>理工一批</td>\n      <td>46.009277</td>\n    </tr>\n    <tr>\n      <th>9</th>\n      <td>2022</td>\n      <td>内蒙古自治区</td>\n      <td>549</td>\n      <td>理工一批</td>\n      <td>2.061279</td>\n    </tr>\n    <tr>\n      <th>12</th>\n      <td>2022</td>\n      <td>辽宁省</td>\n      <td>576</td>\n      <td>物理类一批</td>\n      <td>4.995300</td>\n    </tr>\n    <tr>\n      <th>15</th>\n      <td>2022</td>\n      <td>吉林省</td>\n      <td>546</td>\n      <td>理工一批</td>\n      <td>7.018127</td>\n    </tr>\n    <tr>\n      <th>21</th>\n      <td>2022</td>\n      <td>黑龙江省</td>\n      <td>519</td>\n      <td>理工一批</td>\n      <td>36.024841</td>\n    </tr>\n    <tr>\n      <th>26</th>\n      <td>2022</td>\n      <td>江苏省</td>\n      <td>601</td>\n      <td>物理类一批</td>\n      <td>11.999512</td>\n    </tr>\n    <tr>\n      <th>30</th>\n      <td>2022</td>\n      <td>安徽省</td>\n      <td>611</td>\n      <td>理工一批</td>\n      <td>12.020325</td>\n    </tr>\n    <tr>\n      <th>33</th>\n      <td>2022</td>\n      <td>福建省</td>\n      <td>605</td>\n      <td>物理类一批</td>\n      <td>7.000061</td>\n    </tr>\n    <tr>\n      <th>37</th>\n      <td>2022</td>\n      <td>江西省</td>\n      <td>597</td>\n      <td>理工一批</td>\n      <td>14.041016</td>\n    </tr>\n    <tr>\n      <th>42</th>\n      <td>2022</td>\n      <td>河南省</td>\n      <td>530</td>\n      <td>理工一批</td>\n      <td>96.034851</td>\n    </tr>\n    <tr>\n      <th>48</th>\n      <td>2022</td>\n      <td>湖北省</td>\n      <td>594</td>\n      <td>物理类一批</td>\n      <td>20.001465</td>\n    </tr>\n    <tr>\n      <th>50</th>\n      <td>2022</td>\n      <td>湖南省</td>\n      <td>596</td>\n      <td>物理类一批</td>\n      <td>16.001892</td>\n    </tr>\n    <tr>\n      <th>52</th>\n      <td>2022</td>\n      <td>广东省</td>\n      <td>607</td>\n      <td>物理类一批</td>\n      <td>0.001587</td>\n    </tr>\n    <tr>\n      <th>54</th>\n      <td>2022</td>\n      <td>广西壮族自治区</td>\n      <td>582</td>\n      <td>理工一批</td>\n      <td>4.044128</td>\n    </tr>\n    <tr>\n      <th>57</th>\n      <td>2022</td>\n      <td>重庆市</td>\n      <td>569</td>\n      <td>物理类一批</td>\n      <td>45.003418</td>\n    </tr>\n    <tr>\n      <th>59</th>\n      <td>2022</td>\n      <td>四川省</td>\n      <td>595</td>\n      <td>理工一批</td>\n      <td>30.956360</td>\n    </tr>\n    <tr>\n      <th>62</th>\n      <td>2022</td>\n      <td>贵州省</td>\n      <td>580</td>\n      <td>理工一批</td>\n      <td>4.971436</td>\n    </tr>\n    <tr>\n      <th>64</th>\n      <td>2022</td>\n      <td>云南省</td>\n      <td>619</td>\n      <td>理工一批</td>\n      <td>38.964172</td>\n    </tr>\n    <tr>\n      <th>70</th>\n      <td>2022</td>\n      <td>陕西省</td>\n      <td>562</td>\n      <td>理工一批</td>\n      <td>10.971252</td>\n    </tr>\n    <tr>\n      <th>73</th>\n      <td>2022</td>\n      <td>甘肃省</td>\n      <td>512</td>\n      <td>理工一批</td>\n      <td>45.989258</td>\n    </tr>\n    <tr>\n      <th>75</th>\n      <td>2022</td>\n      <td>青海省</td>\n      <td>474</td>\n      <td>理工一批</td>\n      <td>30.959930</td>\n    </tr>\n    <tr>\n      <th>77</th>\n      <td>2022</td>\n      <td>宁夏回族自治区</td>\n      <td>513</td>\n      <td>理工一批</td>\n      <td>26.987488</td>\n    </tr>\n    <tr>\n      <th>79</th>\n      <td>2022</td>\n      <td>新疆维吾尔自治区</td>\n      <td>516</td>\n      <td>理工一批</td>\n      <td>28.989990</td>\n    </tr>\n  </tbody>\n</table>\n</div>"
     },
     "execution_count": 13,
     "metadata": {},
     "output_type": "execute_result"
    }
   ],
   "source": [
    "x_visual"
   ],
   "metadata": {
    "collapsed": false,
    "ExecuteTime": {
     "end_time": "2023-07-09T08:32:45.861525200Z",
     "start_time": "2023-07-09T08:32:45.839876500Z"
    }
   }
  }
 ],
 "metadata": {
  "kernelspec": {
   "display_name": "Python 3",
   "language": "python",
   "name": "python3"
  },
  "language_info": {
   "codemirror_mode": {
    "name": "ipython",
    "version": 2
   },
   "file_extension": ".py",
   "mimetype": "text/x-python",
   "name": "python",
   "nbconvert_exporter": "python",
   "pygments_lexer": "ipython2",
   "version": "2.7.6"
  }
 },
 "nbformat": 4,
 "nbformat_minor": 0
}
