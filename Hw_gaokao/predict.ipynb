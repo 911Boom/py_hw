{
 "cells": [
  {
   "cell_type": "code",
   "execution_count": 105,
   "metadata": {
    "collapsed": true,
    "ExecuteTime": {
     "end_time": "2023-06-28T01:34:25.091139800Z",
     "start_time": "2023-06-28T01:34:25.079959700Z"
    }
   },
   "outputs": [],
   "source": [
    "import pandas as pd\n",
    "from xgboost import XGBRegressor\n",
    "import sqlite3\n",
    "from sklearn.metrics import mean_absolute_error"
   ]
  },
  {
   "cell_type": "code",
   "execution_count": 106,
   "outputs": [
    {
     "name": "stdout",
     "output_type": "stream",
     "text": [
      "     year  province  score specialized\n",
      "0    2022       北京市    617          综合\n",
      "1    2022       天津市    642          综合\n",
      "2    2022       河北省    611       历史类一批\n",
      "3    2022       河北省    590       物理类一批\n",
      "4    2022       山西省    547        文史一批\n",
      "..    ...       ...    ...         ...\n",
      "351  2019       青海省    521        理工一批\n",
      "352  2019   宁夏回族自治区    603        文史一批\n",
      "353  2019   宁夏回族自治区    555        理工一批\n",
      "354  2019  新疆维吾尔自治区    586        文史一批\n",
      "355  2019  新疆维吾尔自治区    568        理工一批\n",
      "\n",
      "[356 rows x 4 columns]\n"
     ]
    }
   ],
   "source": [
    "conn = sqlite3.connect('gaokao.db')\n",
    "cur = conn.cursor()\n",
    "cur.execute('''\n",
    "select gk1.year,prov.province,gk1.score,gk1.specialized\n",
    "from gk1,prov\n",
    "where gk1.province=prov.province_sx\n",
    "''')\n",
    "X = pd.DataFrame(cur.fetchall(), columns=['year', 'province', 'score', 'specialized'])\n",
    "print(X)"
   ],
   "metadata": {
    "collapsed": false,
    "ExecuteTime": {
     "end_time": "2023-06-28T01:34:25.128522700Z",
     "start_time": "2023-06-28T01:34:25.092629500Z"
    }
   }
  },
  {
   "cell_type": "code",
   "execution_count": 107,
   "outputs": [
    {
     "name": "stdout",
     "output_type": "stream",
     "text": [
      "     year  province  score  specialized\n",
      "81   2021       北京市    598           综合\n",
      "82   2021       天津市    637           综合\n",
      "83   2021       河北省    604        历史类一批\n",
      "84   2021       河北省    593        物理类一批\n",
      "85   2021       河北省    589  物理学（中外合作办学）\n",
      "..    ...       ...    ...          ...\n",
      "351  2019       青海省    521         理工一批\n",
      "352  2019   宁夏回族自治区    603         文史一批\n",
      "353  2019   宁夏回族自治区    555         理工一批\n",
      "354  2019  新疆维吾尔自治区    586         文史一批\n",
      "355  2019  新疆维吾尔自治区    568         理工一批\n",
      "\n",
      "[275 rows x 4 columns]\n",
      "    year  province  score specialized\n",
      "0   2022       北京市    617          综合\n",
      "1   2022       天津市    642          综合\n",
      "2   2022       河北省    611       历史类一批\n",
      "3   2022       河北省    590       物理类一批\n",
      "4   2022       山西省    547        文史一批\n",
      "..   ...       ...    ...         ...\n",
      "76  2022   宁夏回族自治区    552        文史一批\n",
      "77  2022   宁夏回族自治区    513        理工一批\n",
      "78  2022  新疆维吾尔自治区    534        文史一批\n",
      "79  2022  新疆维吾尔自治区    516        理工一批\n",
      "80  2022  新疆维吾尔自治区    479    南疆计划（理工）\n",
      "\n",
      "[81 rows x 4 columns]\n"
     ]
    }
   ],
   "source": [
    "X_test = X[X['year'] == 2022]\n",
    "X_train = X[X['year'] != 2022]\n",
    "print(X_train)\n",
    "print(X_test)"
   ],
   "metadata": {
    "collapsed": false,
    "ExecuteTime": {
     "end_time": "2023-06-28T01:34:25.128522700Z",
     "start_time": "2023-06-28T01:34:25.107528800Z"
    }
   }
  },
  {
   "cell_type": "code",
   "execution_count": 108,
   "outputs": [
    {
     "name": "stdout",
     "output_type": "stream",
     "text": [
      "     year  province_上海市  province_云南省  province_内蒙古自治区  province_北京市  \\\n",
      "81   2021             0             0                0             1   \n",
      "82   2021             0             0                0             0   \n",
      "83   2021             0             0                0             0   \n",
      "84   2021             0             0                0             0   \n",
      "85   2021             0             0                0             0   \n",
      "..    ...           ...           ...              ...           ...   \n",
      "351  2019             0             0                0             0   \n",
      "352  2019             0             0                0             0   \n",
      "353  2019             0             0                0             0   \n",
      "354  2019             0             0                0             0   \n",
      "355  2019             0             0                0             0   \n",
      "\n",
      "     province_吉林省  province_四川省  province_天津市  province_宁夏回族自治区  province_安徽省  \\\n",
      "81              0             0             0                 0             0   \n",
      "82              0             0             1                 0             0   \n",
      "83              0             0             0                 0             0   \n",
      "84              0             0             0                 0             0   \n",
      "85              0             0             0                 0             0   \n",
      "..            ...           ...           ...               ...           ...   \n",
      "351             0             0             0                 0             0   \n",
      "352             0             0             0                 1             0   \n",
      "353             0             0             0                 1             0   \n",
      "354             0             0             0                 0             0   \n",
      "355             0             0             0                 0             0   \n",
      "\n",
      "     ...  specialized_理工一批  specialized_综合  specialized_综合改革  \\\n",
      "81   ...                 0               1                 0   \n",
      "82   ...                 0               1                 0   \n",
      "83   ...                 0               0                 0   \n",
      "84   ...                 0               0                 0   \n",
      "85   ...                 0               0                 0   \n",
      "..   ...               ...             ...               ...   \n",
      "351  ...                 1               0                 0   \n",
      "352  ...                 0               0                 0   \n",
      "353  ...                 1               0                 0   \n",
      "354  ...                 0               0                 0   \n",
      "355  ...                 1               0                 0   \n",
      "\n",
      "     specialized_西藏民（文史）  specialized_西藏民（理工）  specialized_西藏汉（文史）  \\\n",
      "81                     0                    0                    0   \n",
      "82                     0                    0                    0   \n",
      "83                     0                    0                    0   \n",
      "84                     0                    0                    0   \n",
      "85                     0                    0                    0   \n",
      "..                   ...                  ...                  ...   \n",
      "351                    0                    0                    0   \n",
      "352                    0                    0                    0   \n",
      "353                    0                    0                    0   \n",
      "354                    0                    0                    0   \n",
      "355                    0                    0                    0   \n",
      "\n",
      "     specialized_西藏汉（理工）  specialized_软件单列  specialized_软件单列（理工）  \\\n",
      "81                     0                 0                     0   \n",
      "82                     0                 0                     0   \n",
      "83                     0                 0                     0   \n",
      "84                     0                 0                     0   \n",
      "85                     0                 0                     0   \n",
      "..                   ...               ...                   ...   \n",
      "351                    0                 0                     0   \n",
      "352                    0                 0                     0   \n",
      "353                    0                 0                     0   \n",
      "354                    0                 0                     0   \n",
      "355                    0                 0                     0   \n",
      "\n",
      "     specialized_南疆计划（理工）  \n",
      "81                      0  \n",
      "82                      0  \n",
      "83                      0  \n",
      "84                      0  \n",
      "85                      0  \n",
      "..                    ...  \n",
      "351                     0  \n",
      "352                     0  \n",
      "353                     0  \n",
      "354                     0  \n",
      "355                     0  \n",
      "\n",
      "[275 rows x 54 columns]\n",
      "    year  province_上海市  province_云南省  province_内蒙古自治区  province_北京市  \\\n",
      "0   2022             0             0                0             1   \n",
      "1   2022             0             0                0             0   \n",
      "2   2022             0             0                0             0   \n",
      "3   2022             0             0                0             0   \n",
      "4   2022             0             0                0             0   \n",
      "..   ...           ...           ...              ...           ...   \n",
      "76  2022             0             0                0             0   \n",
      "77  2022             0             0                0             0   \n",
      "78  2022             0             0                0             0   \n",
      "79  2022             0             0                0             0   \n",
      "80  2022             0             0                0             0   \n",
      "\n",
      "    province_吉林省  province_四川省  province_天津市  province_宁夏回族自治区  province_安徽省  \\\n",
      "0              0             0             0                 0             0   \n",
      "1              0             0             1                 0             0   \n",
      "2              0             0             0                 0             0   \n",
      "3              0             0             0                 0             0   \n",
      "4              0             0             0                 0             0   \n",
      "..           ...           ...           ...               ...           ...   \n",
      "76             0             0             0                 1             0   \n",
      "77             0             0             0                 1             0   \n",
      "78             0             0             0                 0             0   \n",
      "79             0             0             0                 0             0   \n",
      "80             0             0             0                 0             0   \n",
      "\n",
      "    ...  specialized_理工一批  specialized_综合  specialized_综合改革  \\\n",
      "0   ...                 0               1                 0   \n",
      "1   ...                 0               1                 0   \n",
      "2   ...                 0               0                 0   \n",
      "3   ...                 0               0                 0   \n",
      "4   ...                 0               0                 0   \n",
      "..  ...               ...             ...               ...   \n",
      "76  ...                 0               0                 0   \n",
      "77  ...                 1               0                 0   \n",
      "78  ...                 0               0                 0   \n",
      "79  ...                 1               0                 0   \n",
      "80  ...                 0               0                 0   \n",
      "\n",
      "    specialized_西藏民（文史）  specialized_西藏民（理工）  specialized_西藏汉（文史）  \\\n",
      "0                     0                    0                    0   \n",
      "1                     0                    0                    0   \n",
      "2                     0                    0                    0   \n",
      "3                     0                    0                    0   \n",
      "4                     0                    0                    0   \n",
      "..                  ...                  ...                  ...   \n",
      "76                    0                    0                    0   \n",
      "77                    0                    0                    0   \n",
      "78                    0                    0                    0   \n",
      "79                    0                    0                    0   \n",
      "80                    0                    0                    0   \n",
      "\n",
      "    specialized_西藏汉（理工）  specialized_软件单列  specialized_软件单列（理工）  \\\n",
      "0                     0                 0                     0   \n",
      "1                     0                 0                     0   \n",
      "2                     0                 0                     0   \n",
      "3                     0                 0                     0   \n",
      "4                     0                 0                     0   \n",
      "..                  ...               ...                   ...   \n",
      "76                    0                 0                     0   \n",
      "77                    0                 0                     0   \n",
      "78                    0                 0                     0   \n",
      "79                    0                 0                     0   \n",
      "80                    0                 0                     0   \n",
      "\n",
      "    specialized_南疆计划（理工）  \n",
      "0                      0  \n",
      "1                      0  \n",
      "2                      0  \n",
      "3                      0  \n",
      "4                      0  \n",
      "..                   ...  \n",
      "76                     0  \n",
      "77                     0  \n",
      "78                     0  \n",
      "79                     0  \n",
      "80                     1  \n",
      "\n",
      "[81 rows x 54 columns]\n",
      "81     598\n",
      "82     637\n",
      "83     604\n",
      "84     593\n",
      "85     589\n",
      "      ... \n",
      "351    521\n",
      "352    603\n",
      "353    555\n",
      "354    586\n",
      "355    568\n",
      "Name: score, Length: 275, dtype: int64\n",
      "0     617\n",
      "1     642\n",
      "2     611\n",
      "3     590\n",
      "4     547\n",
      "     ... \n",
      "76    552\n",
      "77    513\n",
      "78    534\n",
      "79    516\n",
      "80    479\n",
      "Name: score, Length: 81, dtype: int64\n"
     ]
    }
   ],
   "source": [
    "y = X_train['score']\n",
    "y_test = X_test['score']\n",
    "X_train = X_train.drop(['score'], axis=1)\n",
    "X_test = X_test.drop(['score'], axis=1)\n",
    "X_train = pd.get_dummies(X_train)\n",
    "X_test = pd.get_dummies(X_test)\n",
    "for col in X_train.columns:\n",
    "    if col not in X_test.columns:\n",
    "        X_test[col] = 0\n",
    "for col in X_test.columns:\n",
    "    if col not in X_train.columns:\n",
    "        X_train[col] = 0\n",
    "X_test = X_test[X_train.columns]\n",
    "print(X_train)\n",
    "print(X_test)\n",
    "print(y)\n",
    "print(y_test)"
   ],
   "metadata": {
    "collapsed": false,
    "ExecuteTime": {
     "end_time": "2023-06-28T01:34:25.147812100Z",
     "start_time": "2023-06-28T01:34:25.119942700Z"
    }
   }
  },
  {
   "cell_type": "code",
   "execution_count": 109,
   "outputs": [
    {
     "name": "stdout",
     "output_type": "stream",
     "text": [
      "[598.0022  637.00037 603.99756 592.9984  603.99194 579.0093  553.0021\n",
      " 549.0612  571.00757 546.9387  528.0008  600.0053  571.0047  571.0204\n",
      " 555.99396 538.9819  547.0048  525.9931  539.00836 579.03094 563.9818\n",
      " 555.02484 566.9976  531.99756 542.00037 600.00073 589.0005  633.98895\n",
      " 634.96405 619.0024  623.0203  594.0197  599.99976 612.00006 589.98553\n",
      " 622.943   613.99713 611.041   595.0187  580.00055 630.93713 610.0119\n",
      " 626.03485 604.0097  612.03455 591.99646 631.9965  617.0016  614.00146\n",
      " 605.0013  612.0019  604.99805 606.9984  613.9491  586.0441  665.00226\n",
      " 620.00354 614.0034  603.0259  625.95636 594.9955  642.9725  575.02856\n",
      " 643.9612  580.0358  598.9974  433.0004  565.99976 379.00073 610.0056\n",
      " 572.97125 519.02356 585.01794 557.98926 531.0318  504.95993 588.0001\n",
      " 486.0125  572.02014 544.99    550.4301 ]\n",
      "20.623454529562114\n"
     ]
    }
   ],
   "source": [
    "model = XGBRegressor(n_estimators=500)\n",
    "model.fit(X_train, y,eval_set=[(X_test, y_test)], verbose=False)\n",
    "y_pred = model.predict(X_test)\n",
    "print(y_pred)\n",
    "print(mean_absolute_error(y_pred, y_test))"
   ],
   "metadata": {
    "collapsed": false,
    "ExecuteTime": {
     "end_time": "2023-06-28T01:34:25.858783600Z",
     "start_time": "2023-06-28T01:34:25.149016500Z"
    }
   }
  },
  {
   "cell_type": "code",
   "execution_count": 110,
   "outputs": [
    {
     "data": {
      "text/plain": "<Figure size 640x480 with 1 Axes>",
      "image/png": "[encoded data removed]"
     },
     "metadata": {},
     "output_type": "display_data"
    }
   ],
   "source": [
    "import matplotlib.pyplot as plt\n",
    "import numpy as np\n",
    "plt.plot(np.arange(0, 81), y_pred, 'r')\n",
    "plt.plot(np.arange(0, 81), y_test, 'b')\n",
    "plt.show()"
   ],
   "metadata": {
    "collapsed": false,
    "ExecuteTime": {
     "end_time": "2023-06-28T01:34:25.971250600Z",
     "start_time": "2023-06-28T01:34:25.862787Z"
    }
   }
  },
  {
   "cell_type": "code",
   "execution_count": 111,
   "outputs": [],
   "source": [
    "import pyecharts.options as opts\n",
    "from pyecharts.charts import Map\n",
    "def visual(df, year, specialized):\n",
    "    c = (\n",
    "        Map()\n",
    "        .add(\"高考分数\", [list(z) for z in zip(df['province'], df['def'])], \"china\")\n",
    "        .set_global_opts(\n",
    "            title_opts=opts.TitleOpts(title=\"{}{}高考分数\".format(year, specialized)),\n",
    "            visualmap_opts=opts.VisualMapOpts(max_=100, min_=0),\n",
    "        )\n",
    "    )\n",
    "    c.render('./map.html')\n"
   ],
   "metadata": {
    "collapsed": false,
    "ExecuteTime": {
     "end_time": "2023-06-28T01:34:26.030551400Z",
     "start_time": "2023-06-28T01:34:25.989673300Z"
    }
   }
  },
  {
   "cell_type": "code",
   "execution_count": 112,
   "outputs": [],
   "source": [
    "specializeds = cur.execute('''\n",
    "select specialized\n",
    "from gk1\n",
    "where year = 2022\n",
    "group by specialized\n",
    "order by count(*) desc\n",
    "''')\n",
    "specializeds = [l[0] for l in specializeds]\n",
    "l1 = [0, 2]\n",
    "q_specialized = tuple([specializeds[i] for i in l1])"
   ],
   "metadata": {
    "collapsed": false,
    "ExecuteTime": {
     "end_time": "2023-06-28T01:34:26.030551400Z",
     "start_time": "2023-06-28T01:34:25.997682600Z"
    }
   }
  },
  {
   "cell_type": "code",
   "execution_count": 113,
   "outputs": [
    {
     "name": "stderr",
     "output_type": "stream",
     "text": [
      "F:\\Program\\AI\\miniconda\\envs\\Py_hw\\lib\\site-packages\\ipykernel_launcher.py:2: SettingWithCopyWarning: \n",
      "A value is trying to be set on a copy of a slice from a DataFrame.\n",
      "Try using .loc[row_indexer,col_indexer] = value instead\n",
      "\n",
      "See the caveats in the documentation: https://pandas.pydata.org/pandas-docs/stable/user_guide/indexing.html#returning-a-view-versus-a-copy\n",
      "  \n"
     ]
    }
   ],
   "source": [
    "x_visual = X[X['year'] == 2022]\n",
    "x_visual['def'] = abs(y_pred - x_visual['score'])\n",
    "x_visual = x_visual[x_visual['specialized'].isin(q_specialized)]\n",
    "\n",
    "visual(x_visual, 2022, q_specialized)\n"
   ],
   "metadata": {
    "collapsed": false,
    "ExecuteTime": {
     "end_time": "2023-06-28T01:34:26.030551400Z",
     "start_time": "2023-06-28T01:34:26.014347100Z"
    }
   }
  }
 ],
 "metadata": {
  "kernelspec": {
   "display_name": "Python 3",
   "language": "python",
   "name": "python3"
  },
  "language_info": {
   "codemirror_mode": {
    "name": "ipython",
    "version": 2
   },
   "file_extension": ".py",
   "mimetype": "text/x-python",
   "name": "python",
   "nbconvert_exporter": "python",
   "pygments_lexer": "ipython2",
   "version": "2.7.6"
  }
 },
 "nbformat": 4,
 "nbformat_minor": 0
}
